{
 "cells": [
  {
   "cell_type": "code",
   "execution_count": 13,
   "id": "40d3c35b-4ded-482e-8f52-9309487d0762",
   "metadata": {},
   "outputs": [],
   "source": [
    "#https://github.com/chengxi600/RLStuff/blob/master/Actor-Critic/Actor-Critic_TD_Lambda_Backward.ipynb\n",
    "\n",
    "import math\n",
    "import time\n",
    "import random\n",
    "from collections import deque\n",
    "from collections import namedtuple\n",
    "from dataclasses import dataclass\n",
    "\n",
    "import numpy as np\n",
    "\n",
    "import torch\n",
    "import torch.nn as nn\n",
    "import torch.optim as optim\n",
    "import torch.nn.functional as F  #activation function https://pytorch.org/docs/stable/nn.functional.html\n",
    "\n",
    "from torch.distributions.categorical import Categorical\n",
    "\n",
    "from torch.profiler import profile, record_function, ProfilerActivity\n",
    "\n",
    "import gym\n",
    "import rl_gym\n",
    "\n",
    "import matplotlib.pyplot as plt\n",
    "\n",
    "from tqdm import tqdm\n",
    "import gc"
   ]
  },
  {
   "cell_type": "code",
   "execution_count": 14,
   "id": "9e310a87-cf9e-4337-adf3-d3d3556979dc",
   "metadata": {},
   "outputs": [
    {
     "name": "stdout",
     "output_type": "stream",
     "text": [
      "Using device: cpu\n"
     ]
    }
   ],
   "source": [
    "#device = torch.device(\"cuda\" if torch.cuda.is_available() else \"cpu\")\n",
    "device = torch.device(\"cpu\")\n",
    "\n",
    "print('Using device:', device)\n",
    "#Additional Info when using cuda\n",
    "if device.type == 'cuda':\n",
    "    print(torch.cuda.get_device_name(0))\n",
    "    print('Memory Usage:')\n",
    "    print('Allocated:', round(torch.cuda.memory_allocated(0)/1024**3,1), 'GB')\n",
    "    print('Cached:   ', round(torch.cuda.memory_reserved(0)/1024**3,1), 'GB')\n",
    "    \n"
   ]
  },
  {
   "cell_type": "code",
   "execution_count": 15,
   "id": "28f9485e-acaa-4e59-9f78-ee6faa83315e",
   "metadata": {},
   "outputs": [],
   "source": [
    "#discount factor for future utilities\n",
    "DISCOUNT_FACTOR = 0.99\n",
    "\n",
    "#number of episodes to run\n",
    "NUM_EPISODES = 1000\n",
    "\n",
    "#max steps per episode\n",
    "MAX_STEPS = 600\n",
    "\n",
    "#early stopping\n",
    "SOLVED_SCORE = 0\n",
    "\n",
    "#device to run model on \n",
    "#DEVICE = \"cuda\" if torch.cuda.is_available() else \"cpu\"\n",
    "DEVICE = \"cpu\"\n",
    "\n",
    "#Lambda constant for actor\n",
    "ACTOR_LAMBDA = 0.5\n",
    "\n",
    "#lambda constant for critic\n",
    "CRITIC_LAMBDA = 0.5\n",
    "\n",
    "#actor learning rate\n",
    "ACTOR_LR = 0.0001\n",
    "\n",
    "#critic learning rate\n",
    "CRITIC_LR = 0.0001"
   ]
  },
  {
   "cell_type": "code",
   "execution_count": 16,
   "id": "8af8777b-6ba0-4bb4-a35c-585c9dc4f944",
   "metadata": {},
   "outputs": [],
   "source": [
    "#Using a neural network to learn our policy parameters\n",
    "class PolicyNetwork(nn.Module):\n",
    "    \n",
    "    #Takes in observations and outputs actions\n",
    "    def __init__(self, observation_space, action_space):\n",
    "        super(PolicyNetwork, self).__init__()\n",
    "        self.input_layer = nn.Linear(observation_space, 128)\n",
    "        self.hidden_layer = nn.Linear(128, 128)\n",
    "        self.output_layer = nn.Linear(128, action_space)\n",
    "    \n",
    "    #forward pass, return action probabilities\n",
    "    def forward(self, x):\n",
    "        x = F.relu(self.input_layer(x))\n",
    "        x = F.relu(self.hidden_layer(x))\n",
    "        return F.softmax(self.output_layer(x), dim=1)"
   ]
  },
  {
   "cell_type": "code",
   "execution_count": 17,
   "id": "ed5dad8e-ec31-4a73-8fa5-512a8a64ff80",
   "metadata": {},
   "outputs": [],
   "source": [
    "#Using a neural network to learn state value\n",
    "class StateValueNetwork(nn.Module):\n",
    "    \n",
    "    #Takes in state\n",
    "    def __init__(self, observation_space):\n",
    "        super(StateValueNetwork, self).__init__()\n",
    "        self.input_layer = nn.Linear(observation_space, 128)\n",
    "        self.hidden_layer = nn.Linear(128, 128)\n",
    "        self.output_layer = nn.Linear(128, 1)\n",
    "    \n",
    "    #forward pass, return state value function\n",
    "    def forward(self, x):\n",
    "        x = F.relu(self.input_layer(x))\n",
    "        x = F.relu(self.hidden_layer(x))\n",
    "        return self.output_layer(x)    "
   ]
  },
  {
   "cell_type": "code",
   "execution_count": 18,
   "id": "c4dff05f-5e10-4c52-a0f4-6bf5eaccc44f",
   "metadata": {},
   "outputs": [],
   "source": [
    "def select_action(network, state):\n",
    "    ''' Selects an action given current state\n",
    "    Args:\n",
    "    - network (Torch NN): network to process state\n",
    "    - state (Array): Array of action space in an environment\n",
    "    \n",
    "    Return:\n",
    "    - (int): action that is selected\n",
    "    - (float): log probability of selecting that action given state and network\n",
    "    '''\n",
    "    \n",
    "    #convert state to float tensor, add 1 dimension, allocate tensor on device\n",
    "    state = torch.from_numpy(state).float().unsqueeze(0).to(DEVICE)\n",
    "    state.requires_grad = True\n",
    "    \n",
    "    #use network to predict action probabilities\n",
    "    action_probs = network(state)\n",
    "    state = state.detach()\n",
    "    \n",
    "    #sample an action using the probability distribution\n",
    "    m = Categorical(probs=action_probs)\n",
    "    action = m.sample()\n",
    "    \n",
    "    #return action\n",
    "    return action.item(), m.log_prob(action)"
   ]
  },
  {
   "cell_type": "code",
   "execution_count": 19,
   "id": "14fed7f9-9107-4f97-9323-e9133167b661",
   "metadata": {},
   "outputs": [
    {
     "name": "stdout",
     "output_type": "stream",
     "text": [
      "pygame 2.1.0 (SDL 2.0.16, Python 3.8.15)\n",
      "Hello from the pygame community. https://www.pygame.org/contribute.html\n"
     ]
    }
   ],
   "source": [
    "#Make environment\n",
    "#env = gym.make('CartPole-v1')\n",
    "env = gym.make(\"rl_gym/PuckWorld-v0\", fps=60)\n",
    "\n",
    "#Init network\n",
    "policy_network = PolicyNetwork(env.observation_space.shape[0], env.action_space.n).to(DEVICE)\n",
    "stateval_network = StateValueNetwork(env.observation_space.shape[0]).to(DEVICE)\n",
    "\n",
    "#Note that we aren't initializing optimizers because we will be manually doing the update instead so we can use trace"
   ]
  },
  {
   "cell_type": "code",
   "execution_count": 20,
   "id": "41fe3102-0868-4017-9233-7f142f5ed761",
   "metadata": {},
   "outputs": [
    {
     "name": "stderr",
     "output_type": "stream",
     "text": [
      "score:-437: 100%|██████████████████████████████████████████████████████████████████| 1000/1000 [25:27<00:00,  1.53s/it]\n"
     ]
    }
   ],
   "source": [
    "#track scores\n",
    "scores = []\n",
    "\n",
    "#track recent scores\n",
    "recent_scores = deque(maxlen = 10)\n",
    "\n",
    "#run episodes\n",
    "pbar = tqdm(range(NUM_EPISODES))\n",
    "\n",
    "for episode in pbar:\n",
    "    \n",
    "    #init variables\n",
    "    state = env.reset()\n",
    "    done = False\n",
    "    score = 0\n",
    "    I = 1\n",
    "    actor_trace = []\n",
    "    critic_trace = []\n",
    "    \n",
    "    #run episode, update online\n",
    "    for step in range(MAX_STEPS):\n",
    "        \n",
    "        #get action and log probability\n",
    "        action, lp = select_action(policy_network, state)\n",
    "        \n",
    "        #step with action\n",
    "        new_state, reward, done, _ = env.step(action)\n",
    "        \n",
    "        #update episode score\n",
    "        score += reward\n",
    "\n",
    "        #update actor trace\n",
    "        policy_network.zero_grad()\n",
    "        lp.backward(retain_graph=True)\n",
    "\n",
    "        if not actor_trace: \n",
    "            with torch.no_grad():\n",
    "                for p in policy_network.parameters():\n",
    "                    #initialize trace \n",
    "                    trace = I * p.grad\n",
    "                    actor_trace.append(trace)\n",
    "        else:\n",
    "            with torch.no_grad():\n",
    "                for i, p in enumerate(policy_network.parameters()):\n",
    "                    #decay trace and shift trace in direction of most recent gradient\n",
    "                    actor_trace[i] = actor_trace[i] * ACTOR_LAMBDA * DISCOUNT_FACTOR + I * p.grad\n",
    "        \n",
    "        #get state value of current state\n",
    "        state_tensor = torch.from_numpy(state).float().unsqueeze(0).to(DEVICE)\n",
    "        state_tensor.requires_grad = True\n",
    "        state_val = stateval_network(state_tensor)\n",
    "\n",
    "        #update critic trace\n",
    "        stateval_network.zero_grad()\n",
    "        state_val.backward()\n",
    "\n",
    "        if not critic_trace:\n",
    "            with torch.no_grad():\n",
    "                for p in stateval_network.parameters():\n",
    "                    #initialize trace\n",
    "                    trace = p.grad\n",
    "                    critic_trace.append(trace)\n",
    "        else:\n",
    "            with torch.no_grad():\n",
    "                for i, p in enumerate(stateval_network.parameters()):\n",
    "                    #decay trace and shift trace in direction of most recent gradient\n",
    "                    critic_trace[i] = critic_trace[i] * CRITIC_LAMBDA * DISCOUNT_FACTOR + p.grad\n",
    "\n",
    "\n",
    "        \n",
    "        #get state value of next state\n",
    "        new_state_tensor = torch.from_numpy(new_state).float().unsqueeze(0).to(DEVICE)        \n",
    "        new_state_val = stateval_network(new_state_tensor)\n",
    "        \n",
    "        #if terminal state, next state val is 0\n",
    "        if done:\n",
    "            new_state_val = torch.tensor([0]).float().unsqueeze(0).to(DEVICE)\n",
    "        \n",
    "        #calculate advantage\n",
    "        advantage = reward + DISCOUNT_FACTOR * new_state_val.item() - state_val.item()\n",
    "        \n",
    "        #Backpropagate policy\n",
    "        policy_network.zero_grad()\n",
    "        #update parameters with trace\n",
    "        with torch.no_grad():\n",
    "            for i, p in enumerate(policy_network.parameters()):\n",
    "                new_val = p + ACTOR_LR * advantage * actor_trace[i]\n",
    "                p.copy_(new_val)\n",
    "        \n",
    "        #Backpropagate value\n",
    "        stateval_network.zero_grad()\n",
    "        #update parameters with trace\n",
    "        with torch.no_grad():\n",
    "            for i, p in enumerate(stateval_network.parameters()):\n",
    "                new_val = p + CRITIC_LR * advantage * critic_trace[i]\n",
    "                p.copy_(new_val)\n",
    "        \n",
    "        if done:\n",
    "            break\n",
    "            \n",
    "        #move into new state, discount I\n",
    "        state = new_state\n",
    "        I *= DISCOUNT_FACTOR\n",
    "    \n",
    "    #append episode score \n",
    "    scores.append(score)\n",
    "    recent_scores.append(score)\n",
    "    pbar.set_description(f'score:{np.mean(recent_scores):.0f}')\n",
    "    pbar.refresh()\n",
    "    \n",
    "    \n",
    "    #early stopping if we meet solved score goal\n",
    "    #if np.array(recent_scores).mean() >= SOLVED_SCORE:\n",
    "    #    break\n",
    "        "
   ]
  },
  {
   "cell_type": "code",
   "execution_count": 21,
   "id": "b4b9554c-671e-4288-b6e5-6baff7c0ae02",
   "metadata": {},
   "outputs": [
    {
     "data": {
      "text/plain": [
       "[<matplotlib.lines.Line2D at 0x26c716cd520>]"
      ]
     },
     "execution_count": 21,
     "metadata": {},
     "output_type": "execute_result"
    },
    {
     "data": {
      "image/png": "[encoded data removed]",
      "text/plain": [
       "<Figure size 640x480 with 1 Axes>"
      ]
     },
     "metadata": {},
     "output_type": "display_data"
    }
   ],
   "source": [
    "plt.plot(scores)"
   ]
  },
  {
   "cell_type": "code",
   "execution_count": null,
   "id": "ad38903a-a6de-48fa-916a-d7e6d45015fe",
   "metadata": {},
   "outputs": [],
   "source": []
  }
 ],
 "metadata": {
  "kernelspec": {
   "display_name": "tfgpu",
   "language": "python",
   "name": "tfgpu"
  },
  "language_info": {
   "codemirror_mode": {
    "name": "ipython",
    "version": 3
   },
   "file_extension": ".py",
   "mimetype": "text/x-python",
   "name": "python",
   "nbconvert_exporter": "python",
   "pygments_lexer": "ipython3",
   "version": "3.8.15"
  }
 },
 "nbformat": 4,
 "nbformat_minor": 5
}
