{
 "cells": [
  {
   "cell_type": "code",
   "execution_count": 1,
   "id": "3a371066-1246-492f-a0be-16a46f3bd8a1",
   "metadata": {},
   "outputs": [],
   "source": [
    "import numpy as np\n",
    "import time\n",
    "\n",
    "import torch\n",
    "\n",
    "import gym\n",
    "import rl_gym\n",
    "import matplotlib.pyplot as plt\n",
    "\n",
    "from tqdm import tqdm\n",
    "from stable_baselines3 import A2C, DQN, PPO\n",
    "from stable_baselines3.common import env_checker\n",
    "from stable_baselines3.common.evaluation import evaluate_policy"
   ]
  },
  {
   "cell_type": "code",
   "execution_count": 2,
   "id": "dab83511-520d-4aa0-88b5-32c9f37d7645",
   "metadata": {},
   "outputs": [
    {
     "name": "stdout",
     "output_type": "stream",
     "text": [
      "pygame 2.1.0 (SDL 2.0.16, Python 3.8.15)\n",
      "Hello from the pygame community. https://www.pygame.org/contribute.html\n"
     ]
    }
   ],
   "source": [
    "\n",
    "#env = gym.make(\"CartPole-v1\")\n",
    "\n",
    "env = gym.wrappers.TimeLimit(gym.make(\"rl_gym/PuckWorld-v0\", fps=60), max_episode_steps=600)\n",
    "#env_checker.check_env(env,skip_render_check=False)\n",
    "\n",
    "device = torch.device(\"cpu\")"
   ]
  },
  {
   "cell_type": "code",
   "execution_count": 3,
   "id": "f5b618a9-9feb-43a9-8397-5153fecf090f",
   "metadata": {},
   "outputs": [
    {
     "name": "stdout",
     "output_type": "stream",
     "text": [
      "DQN\n",
      "-------------\n"
     ]
    },
    {
     "name": "stderr",
     "output_type": "stream",
     "text": [
      "C:\\Users\\remyh\\anaconda3\\envs\\tfgpu\\lib\\site-packages\\stable_baselines3\\common\\evaluation.py:67: UserWarning: Evaluation environment is not wrapped with a ``Monitor`` wrapper. This may result in reporting modified episode lengths and rewards, if other wrappers happen to modify these. Consider wrapping environment first with ``Monitor`` wrapper.\n",
      "  warnings.warn(\n"
     ]
    },
    {
     "name": "stdout",
     "output_type": "stream",
     "text": [
      "--- 16.2 seconds ---\n",
      "mean_reward:-759.06 +/- 397.94\n",
      "train\n",
      "--- 8.7 minutes ---\n",
      "evaluate\n",
      "mean_reward:-171.37 +/- 85.99\n"
     ]
    }
   ],
   "source": [
    "\n",
    "print(\"DQN\")\n",
    "print(\"-------------\")\n",
    "\n",
    "model = DQN(\"MlpPolicy\", env, verbose=0, device=device)\n",
    "\n",
    "# Evaluate random Agent, before training\n",
    "eval_env = gym.wrappers.TimeLimit(gym.make(\"rl_gym/PuckWorld-v0\", fps=60), max_episode_steps=600)\n",
    "start_time = time.time()\n",
    "mean_reward, std_reward = evaluate_policy(model, eval_env, n_eval_episodes=100)\n",
    "print(\"--- %.1f seconds ---\" % (time.time() - start_time))\n",
    "print(f\"mean_reward:{mean_reward:.2f} +/- {std_reward:.2f}\")\n",
    "\n",
    "# Learn\n",
    "print(\"train\")\n",
    "start_time = time.time()\n",
    "model.learn(total_timesteps=600*1000)\n",
    "print(\"--- %.1f minutes ---\" % ((time.time() - start_time)/60))\n",
    "\n",
    "#evaluate\n",
    "print(\"evaluate\")\n",
    "mean_reward, std_reward = evaluate_policy(model, eval_env, n_eval_episodes=100)\n",
    "print(f\"mean_reward:{mean_reward:.2f} +/- {std_reward:.2f}\")\n",
    "\n",
    "\n",
    "\n"
   ]
  },
  {
   "cell_type": "code",
   "execution_count": 4,
   "id": "2c5d42af-bdbd-418e-b2d2-1b7456edc49c",
   "metadata": {},
   "outputs": [
    {
     "name": "stdout",
     "output_type": "stream",
     "text": [
      "A2C\n",
      "-------------\n",
      "--- 26.1 seconds ---\n",
      "mean_reward:-847.26 +/- 371.57\n",
      "train\n",
      "--- 11.0 minutes ---\n",
      "evaluate\n",
      "mean_reward:-261.86 +/- 72.10\n"
     ]
    }
   ],
   "source": [
    "print(\"A2C\")\n",
    "print(\"-------------\")\n",
    "\n",
    "model = A2C(\"MlpPolicy\", env, verbose=0, device=device)\n",
    "\n",
    "# Evaluate random Agent, before training\n",
    "eval_env = gym.wrappers.TimeLimit(gym.make(\"rl_gym/PuckWorld-v0\", fps=60), max_episode_steps=600)\n",
    "start_time = time.time()\n",
    "mean_reward, std_reward = evaluate_policy(model, eval_env, n_eval_episodes=100)\n",
    "print(\"--- %.1f seconds ---\" % (time.time() - start_time))\n",
    "print(f\"mean_reward:{mean_reward:.2f} +/- {std_reward:.2f}\")\n",
    "\n",
    "# Learn\n",
    "print(\"train\")\n",
    "start_time = time.time()\n",
    "model.learn(total_timesteps=600*1000)\n",
    "print(\"--- %.1f minutes ---\" % ((time.time() - start_time)/60))\n",
    "\n",
    "#evaluate\n",
    "print(\"evaluate\")\n",
    "mean_reward, std_reward = evaluate_policy(model, eval_env, n_eval_episodes=100)\n",
    "print(f\"mean_reward:{mean_reward:.2f} +/- {std_reward:.2f}\")"
   ]
  },
  {
   "cell_type": "code",
   "execution_count": 5,
   "id": "25f10560-9843-4ba5-87b8-2a9e417443ce",
   "metadata": {},
   "outputs": [
    {
     "name": "stdout",
     "output_type": "stream",
     "text": [
      "PPO\n",
      "-------------\n",
      "--- 25.2 seconds ---\n",
      "mean_reward:-642.26 +/- 334.61\n",
      "train\n",
      "--- 12.3 minutes ---\n",
      "evaluate\n",
      "mean_reward:-258.01 +/- 64.26\n"
     ]
    }
   ],
   "source": [
    "print(\"PPO\")\n",
    "print(\"-------------\")\n",
    "\n",
    "model = PPO(\"MlpPolicy\", env, verbose=0, device=device)\n",
    "\n",
    "# Evaluate random Agent, before training\n",
    "eval_env = gym.wrappers.TimeLimit(gym.make(\"rl_gym/PuckWorld-v0\", fps=60), max_episode_steps=600)\n",
    "start_time = time.time()\n",
    "mean_reward, std_reward = evaluate_policy(model, eval_env, n_eval_episodes=100)\n",
    "print(\"--- %.1f seconds ---\" % (time.time() - start_time))\n",
    "print(f\"mean_reward:{mean_reward:.2f} +/- {std_reward:.2f}\")\n",
    "\n",
    "# Learn\n",
    "print(\"train\")\n",
    "start_time = time.time()\n",
    "model.learn(total_timesteps=600*1000)\n",
    "print(\"--- %.1f minutes ---\" % ((time.time() - start_time)/60))\n",
    "\n",
    "#evaluate\n",
    "print(\"evaluate\")\n",
    "mean_reward, std_reward = evaluate_policy(model, eval_env, n_eval_episodes=100)\n",
    "print(f\"mean_reward:{mean_reward:.2f} +/- {std_reward:.2f}\")\n"
   ]
  },
  {
   "cell_type": "code",
   "execution_count": 6,
   "id": "4dda7cc1-c63e-4194-b9f3-90e77fdf97e3",
   "metadata": {},
   "outputs": [
    {
     "name": "stderr",
     "output_type": "stream",
     "text": [
      "100%|████████████████████████████████████████████████████████████████████████████████| 100/100 [00:31<00:00,  3.20it/s]"
     ]
    },
    {
     "name": "stdout",
     "output_type": "stream",
     "text": [
      "--- 31.263916969299316 seconds ---\n",
      "-272.26832309072563 98.34877139670182\n"
     ]
    },
    {
     "name": "stderr",
     "output_type": "stream",
     "text": [
      "\n"
     ]
    },
    {
     "data": {
      "image/png": "[encoded data removed]",
      "text/plain": [
       "<Figure size 640x480 with 1 Axes>"
      ]
     },
     "metadata": {},
     "output_type": "display_data"
    }
   ],
   "source": [
    "#env = model.get_env()\n",
    "num_episodes = 100\n",
    "log = []\n",
    "start_time = time.time()\n",
    "for episode in tqdm(range(num_episodes)):\n",
    "\n",
    "    obs = env.reset()\n",
    "    episode_score = 0\n",
    "    terminated = False\n",
    "\n",
    "    while not terminated:\n",
    "        action, _state = model.predict(obs, deterministic=True)\n",
    "        obs, reward, terminated, info = env.step(action)\n",
    "        episode_score += reward\n",
    "        env.render(mode=None)\n",
    "\n",
    "    log.append(episode_score)\n",
    "\n",
    "env.close()    \n",
    "print(\"--- %s seconds ---\" % (time.time() - start_time))\n",
    "\n",
    "plt.plot(log)\n",
    "print(np.mean(log), np.std(log)) \n"
   ]
  },
  {
   "cell_type": "code",
   "execution_count": 43,
   "id": "0b9abca3-95ab-452c-82b7-edd76786e272",
   "metadata": {},
   "outputs": [
    {
     "data": {
      "text/plain": [
       "[[600, -523.1592318476892],\n",
       " [600, -329.2297360696973],\n",
       " [600, -391.49119353011395],\n",
       " [600, -456.1807078923572],\n",
       " [600, -455.820090663924],\n",
       " [600, -382.6230263160278],\n",
       " [600, -283.3490799115924],\n",
       " [600, -469.3894873662883],\n",
       " [600, -661.2731908177146],\n",
       " [600, -474.6471475259257]]"
      ]
     },
     "execution_count": 43,
     "metadata": {},
     "output_type": "execute_result"
    }
   ],
   "source": [
    "log"
   ]
  },
  {
   "cell_type": "code",
   "execution_count": null,
   "id": "9012bb5b-3db3-47b1-9674-92d0f9bd8d1a",
   "metadata": {},
   "outputs": [],
   "source": []
  }
 ],
 "metadata": {
  "kernelspec": {
   "display_name": "tfgpu",
   "language": "python",
   "name": "tfgpu"
  },
  "language_info": {
   "codemirror_mode": {
    "name": "ipython",
    "version": 3
   },
   "file_extension": ".py",
   "mimetype": "text/x-python",
   "name": "python",
   "nbconvert_exporter": "python",
   "pygments_lexer": "ipython3",
   "version": "3.8.15"
  }
 },
 "nbformat": 4,
 "nbformat_minor": 5
}
